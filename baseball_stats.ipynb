{
 "cells": [
  {
   "cell_type": "code",
   "execution_count": 1,
   "metadata": {},
   "outputs": [],
   "source": [
    "import fetch_game\n",
    "import baseball_events"
   ]
  },
  {
   "cell_type": "markdown",
   "metadata": {},
   "source": [
    "### All game information can be returned in a single object"
   ]
  },
  {
   "cell_type": "code",
   "execution_count": 2,
   "metadata": {
    "scrolled": true
   },
   "outputs": [
    {
     "data": {
      "text/plain": [
       "'2017-11-01-HOU-LAD-1'"
      ]
     },
     "execution_count": 2,
     "metadata": {},
     "output_type": "execute_result"
    }
   ],
   "source": [
    "game_id, game = fetch_game.get_game_from_url('11-1-2017', 'HOU', 'LAD', 1)\n",
    "game_id"
   ]
  },
  {
   "cell_type": "code",
   "execution_count": null,
   "metadata": {},
   "outputs": [],
   "source": []
  },
  {
   "cell_type": "markdown",
   "metadata": {},
   "source": [
    "### Components of the game can be displayed individually"
   ]
  },
  {
   "cell_type": "code",
   "execution_count": 3,
   "metadata": {
    "scrolled": true
   },
   "outputs": [
    {
     "name": "stdout",
     "output_type": "stream",
     "text": [
      "away_batter_box_score_dict\n",
      "away_pitcher_box_score_dict\n",
      "away_team\n",
      "away_team_stats\n",
      "first_pitch_datetime\n",
      "first_pitch_str\n",
      "game_date_str\n",
      "home_batter_box_score_dict\n",
      "home_pitcher_box_score_dict\n",
      "home_team\n",
      "home_team_stats\n",
      "inning_list\n",
      "last_pitch_datetime\n",
      "last_pitch_str\n",
      "location\n"
     ]
    }
   ],
   "source": [
    "for key in sorted(game.__dict__.keys()):\n",
    "    print(key)"
   ]
  },
  {
   "cell_type": "markdown",
   "metadata": {},
   "source": [
    "#### Individual inning:"
   ]
  },
  {
   "cell_type": "code",
   "execution_count": 4,
   "metadata": {},
   "outputs": [
    {
     "data": {
      "text/plain": [
       "-------------------------------- TOP OF INNING --------------------------------\n",
       "InningStatsTuple(S=18, P=24, BB=0, K=0, LOB=0, E=1, H=1, R=2)\n",
       "[\n",
       " Scorecard:      2B\n",
       " Hit location:   L7\n",
       " Pitcher:        21 Yu Darvish\n",
       " Batter:          4 George Springer\n",
       " Got on base:    True\n",
       " Fielding Error: None\n",
       " Out Runners:    []\n",
       " Scoring Runners:[]\n",
       " Runs Batted In: []\n",
       " Inning Outs:    0\n",
       " Summary:        Double\n",
       " Description:    George Springer doubles (3) on a line drive to left fielder Joc\n",
       "                 Pederson.\n",
       " Events:\n",
       "     - Pitch:                Ball                FF    96.0    (155.47, 160.83)\n",
       "     - Pitch:                Called Strike       FC    83.9    (107.00, 171.09)\n",
       "     - Pitch:                In play, no out     SL    83.9    (115.36, 183.10)\n",
       "     -  4 George Springer:   Double                --->2B                      \n",
       ", \n",
       " Scorecard:      E3\n",
       " Hit location:   E3\n",
       " Pitcher:        21 Yu Darvish\n",
       " Batter:          2 Alex Bregman\n",
       " Got on base:    False\n",
       " Fielding Error: E3\n",
       " Out Runners:    []\n",
       " Scoring Runners:[ 4 George Springer]\n",
       " Runs Batted In: []\n",
       " Inning Outs:    0\n",
       " Summary:        Field Error\n",
       " Description:    Alex Bregman reaches on a throwing error by first baseman Cody\n",
       "                 Bellinger. George Springer scores. Alex Bregman to 2nd.\n",
       " Events:\n",
       "     - Pitch:                In play, run(s)     FF    96.6     (80.06, 168.03)\n",
       "     -  4 George Springer:   Field Error         2B--->        (Scored, Earned)\n",
       "     -  2 Alex Bregman:      Field Error           --->2B                      \n",
       ", \n",
       " Scorecard:      G3\n",
       " Hit location:   G3\n",
       " Pitcher:        21 Yu Darvish\n",
       " Batter:         27 Jose Altuve\n",
       " Got on base:    False\n",
       " Fielding Error: None\n",
       " Out Runners:    []\n",
       " Scoring Runners:[ 2 Alex Bregman]\n",
       " Runs Batted In: [ 2 Alex Bregman]\n",
       " Inning Outs:    1\n",
       " Summary:        Groundout\n",
       " Description:    Jose Altuve grounds out to first baseman Cody Bellinger. Alex\n",
       "                 Bregman scores.\n",
       " Events:\n",
       "     - Pitch:                Ball                SL    84.6     (54.10, 216.52)\n",
       "     - Pitch:                Called Strike       SL    84.5    (130.07, 187.18)\n",
       "     - Pitch:                Ball In Dirt        CU    75.0       (60.62, 0.00)\n",
       "     -  2 Alex Bregman:      Stolen Base 3B      2B--->3B                      \n",
       "     - Pitch:                In play, run(s)     SL    84.7     (58.63, 173.43)\n",
       "     -  2 Alex Bregman:      Groundout           3B--->           (Scored, RBI)\n",
       ", \n",
       " Scorecard:      G3-1\n",
       " Hit location:   G3\n",
       " Pitcher:        21 Yu Darvish\n",
       " Batter:          1 Carlos Correa\n",
       " Got on base:    False\n",
       " Fielding Error: None\n",
       " Out Runners:    []\n",
       " Scoring Runners:[]\n",
       " Runs Batted In: []\n",
       " Inning Outs:    2\n",
       " Summary:        Groundout\n",
       " Description:    Carlos Correa grounds out softly, first baseman Cody Bellinger\n",
       "                 to pitcher Yu Darvish.\n",
       " Events:\n",
       "     - Pitch:                Swinging Strike     FF    95.7    (100.96, 184.09)\n",
       "     - Pitch:                Called Strike       SL    84.7    (127.58, 185.75)\n",
       "     - Pitch:                In play, out(s)     CH    87.5    (112.06, 164.58)\n",
       ", \n",
       " Scorecard:      F9\n",
       " Hit location:   F9\n",
       " Pitcher:        21 Yu Darvish\n",
       " Batter:         10 Yuli Gurriel\n",
       " Got on base:    False\n",
       " Fielding Error: None\n",
       " Out Runners:    []\n",
       " Scoring Runners:[]\n",
       " Runs Batted In: []\n",
       " Inning Outs:    3\n",
       " Summary:        Flyout\n",
       " Description:    Yuli Gurriel flies out to right fielder Yasiel Puig.\n",
       " Events:\n",
       "     - Pitch:                Called Strike       FF    96.1     (81.71, 188.54)\n",
       "     - Pitch:                Called Strike       FF    96.4     (75.98, 184.28)\n",
       "     - Pitch:                Ball                CU    69.5     (34.43, 160.98)\n",
       "     - Pitch:                Ball                CH    86.9     (61.74, 179.35)\n",
       "     - Pitch:                Foul                FC    85.3    (134.63, 142.30)\n",
       "     - Pitch:                Foul                SL    85.0    (103.85, 198.63)\n",
       "     - Pitch:                Ball                FF    96.2     (76.60, 184.07)\n",
       "     - Pitch:                Foul                SL    85.1    (106.54, 163.16)\n",
       "     - Pitch:                Foul                SL    83.5     (99.66, 170.06)\n",
       "     - Pitch:                Foul                SL    84.0    (115.80, 181.56)\n",
       "     - Pitch:                Foul                FF    95.2    (120.15, 169.57)\n",
       "     - Pitch:                Foul                SL    86.0    (100.09, 210.10)\n",
       "     - Pitch:                In play, out(s)     FF    95.2    (111.75, 193.21)\n",
       "]\n",
       "\n",
       "------------------------------ BOTTOM OF INNING -------------------------------\n",
       "InningStatsTuple(S=14, P=25, BB=0, K=2, LOB=3, E=0, H=1, R=0)\n",
       "[\n",
       " Scorecard:      2B\n",
       " Hit location:   L8\n",
       " Pitcher:        43 Lance McCullers Jr.\n",
       " Batter:          3 Chris Taylor\n",
       " Got on base:    True\n",
       " Fielding Error: None\n",
       " Out Runners:    []\n",
       " Scoring Runners:[]\n",
       " Runs Batted In: []\n",
       " Inning Outs:    0\n",
       " Summary:        Double\n",
       " Description:    Chris Taylor doubles (2) on a line drive to center fielder\n",
       "                 George Springer.\n",
       " Events:\n",
       "     - Pitch:                Called Strike       FF    93.5    (121.08, 165.90)\n",
       "     - Pitch:                Ball                FF    90.5       (64.22, 0.00)\n",
       "     - Pitch:                In play, no out     KC    87.3    (110.98, 159.18)\n",
       "     -  3 Chris Taylor:      Double                --->2B                      \n",
       ", \n",
       " Scorecard:      K\n",
       " Hit location:   None\n",
       " Pitcher:        43 Lance McCullers Jr.\n",
       " Batter:          5 Corey Seager\n",
       " Got on base:    False\n",
       " Fielding Error: None\n",
       " Out Runners:    []\n",
       " Scoring Runners:[]\n",
       " Runs Batted In: []\n",
       " Inning Outs:    1\n",
       " Summary:        Strikeout\n",
       " Description:    Corey Seager strikes out swinging.\n",
       " Events:\n",
       "     - Pitch:                Ball                KC    85.0    (174.45, 166.28)\n",
       "     - Pitch:                Called Strike       FF    95.5    (120.94, 167.35)\n",
       "     - Pitch:                Ball In Dirt        KC    86.5    (126.10, 219.73)\n",
       "     - Pitch:                Foul Tip            KC    89.1     (73.94, 201.95)\n",
       "     - Pitch:                Ball                KC    87.9    (119.14, 200.13)\n",
       "     - Pitch:                Swinging Strike     KC    87.5     (71.71, 201.51)\n",
       ", \n",
       " Scorecard:      HBP\n",
       " Hit location:   None\n",
       " Pitcher:        43 Lance McCullers Jr.\n",
       " Batter:         10 Justin Turner\n",
       " Got on base:    True\n",
       " Fielding Error: None\n",
       " Out Runners:    []\n",
       " Scoring Runners:[]\n",
       " Runs Batted In: []\n",
       " Inning Outs:    1\n",
       " Summary:        Hit By Pitch\n",
       " Description:    Justin Turner hit by pitch.\n",
       " Events:\n",
       "     - Pitch:                Foul                FF    95.4    (113.31, 176.33)\n",
       "     - Pitch:                Swinging Strike (Blocked) KC    88.6    (108.18, 226.18)\n",
       "     - Pitch:                Ball In Dirt        KC    88.7     (49.73, 239.63)\n",
       "     - Pitch:                Hit By Pitch        FF    94.2    (163.92, 150.41)\n",
       "     - 10 Justin Turner:     Hit By Pitch          --->1B                      \n",
       ", \n",
       " Scorecard:      K\n",
       " Hit location:   None\n",
       " Pitcher:        43 Lance McCullers Jr.\n",
       " Batter:         35 Cody Bellinger\n",
       " Got on base:    False\n",
       " Fielding Error: None\n",
       " Out Runners:    []\n",
       " Scoring Runners:[]\n",
       " Runs Batted In: []\n",
       " Inning Outs:    2\n",
       " Summary:        Strikeout\n",
       " Description:    Cody Bellinger strikes out swinging.\n",
       " Events:\n",
       "     - Pitch:                Foul                KC    88.4    (111.74, 199.33)\n",
       "     - Pitch:                Ball In Dirt        KC    88.3     (66.55, 244.04)\n",
       "     - Pitch:                Swinging Strike     KC    88.1    (104.40, 195.73)\n",
       "     - Pitch:                Swinging Strike     KC    88.3     (79.92, 208.04)\n",
       ", \n",
       " Scorecard:      HBP\n",
       " Hit location:   None\n",
       " Pitcher:        43 Lance McCullers Jr.\n",
       " Batter:         66 Yasiel Puig\n",
       " Got on base:    True\n",
       " Fielding Error: None\n",
       " Out Runners:    []\n",
       " Scoring Runners:[]\n",
       " Runs Batted In: []\n",
       " Inning Outs:    2\n",
       " Summary:        Hit By Pitch\n",
       " Description:    Yasiel Puig hit by pitch. Chris Taylor to 3rd. Justin Turner to\n",
       "                 2nd.\n",
       " Events:\n",
       "     - Pitch:                Called Strike       FF    94.7    (145.71, 160.05)\n",
       "     - Pitch:                Ball                FF    94.6    (128.58, 150.39)\n",
       "     - Pitch:                Ball                FF    94.2    (149.31, 151.59)\n",
       "     - Pitch:                Ball                KC    88.2    (134.62, 209.58)\n",
       "     - Pitch:                Hit By Pitch        FF    94.5    (189.72, 131.21)\n",
       "     - 10 Justin Turner:     Hit By Pitch        1B--->2B                      \n",
       "     -  3 Chris Taylor:      Hit By Pitch        2B--->3B                      \n",
       "     - 66 Yasiel Puig:       Hit By Pitch          --->1B                      \n",
       ", \n",
       " Scorecard:      G4-3\n",
       " Hit location:   G4\n",
       " Pitcher:        43 Lance McCullers Jr.\n",
       " Batter:         31 Joc Pederson\n",
       " Got on base:    False\n",
       " Fielding Error: None\n",
       " Out Runners:    []\n",
       " Scoring Runners:[]\n",
       " Runs Batted In: []\n",
       " Inning Outs:    3\n",
       " Summary:        Groundout\n",
       " Description:    Joc Pederson grounds out, second baseman Jose Altuve to first\n",
       "                 baseman Yuli Gurriel.\n",
       " Events:\n",
       "     - Pitch:                Called Strike       KC    88.9    (149.21, 169.80)\n",
       "     - Pitch:                Swinging Strike     KC    87.7     (98.02, 210.51)\n",
       "     - Pitch:                In play, out(s)     KC    87.8    (102.78, 189.63)\n",
       "     - 66 Yasiel Puig:       Groundout           1B--->                        \n",
       "     - 10 Justin Turner:     Groundout           2B--->                        \n",
       "     -  3 Chris Taylor:      Groundout           3B--->                        \n",
       "]"
      ]
     },
     "execution_count": 4,
     "metadata": {},
     "output_type": "execute_result"
    }
   ],
   "source": [
    "game.inning_list[0]"
   ]
  },
  {
   "cell_type": "markdown",
   "metadata": {},
   "source": [
    "#### Plate appearance:"
   ]
  },
  {
   "cell_type": "code",
   "execution_count": 5,
   "metadata": {},
   "outputs": [
    {
     "data": {
      "text/plain": [
       "\n",
       " Scorecard:      K\n",
       " Hit location:   None\n",
       " Pitcher:        22 Clayton Kershaw\n",
       " Batter:          4 George Springer\n",
       " Got on base:    False\n",
       " Fielding Error: None\n",
       " Out Runners:    []\n",
       " Scoring Runners:[]\n",
       " Runs Batted In: []\n",
       " Inning Outs:    1\n",
       " Summary:        Strikeout\n",
       " Description:    George Springer strikes out swinging.\n",
       " Events:\n",
       "     - Pitch:                Called Strike       CU    72.7    (126.17, 167.58)\n",
       "     - Pitch:                Foul                FF    93.6    (142.58, 176.48)\n",
       "     - Pitch:                Foul                FF    94.1     (69.67, 167.92)\n",
       "     - Pitch:                Swinging Strike     SL    89.5    (129.31, 153.95)"
      ]
     },
     "execution_count": 5,
     "metadata": {},
     "output_type": "execute_result"
    }
   ],
   "source": [
    "game.inning_list[4].top_half_appearance_list[0]"
   ]
  },
  {
   "cell_type": "markdown",
   "metadata": {},
   "source": [
    "#### Plate appearance event list:"
   ]
  },
  {
   "cell_type": "code",
   "execution_count": 6,
   "metadata": {},
   "outputs": [
    {
     "data": {
      "text/plain": [
       "- Pitch:                Called Strike       CU    72.7    (126.17, 167.58)"
      ]
     },
     "execution_count": 6,
     "metadata": {},
     "output_type": "execute_result"
    }
   ],
   "source": [
    "game.inning_list[4].top_half_appearance_list[0].event_list[0]"
   ]
  },
  {
   "cell_type": "markdown",
   "metadata": {},
   "source": [
    "### Analyze a game"
   ]
  },
  {
   "cell_type": "code",
   "execution_count": 7,
   "metadata": {},
   "outputs": [],
   "source": [
    "from pandas import DataFrame, read_csv\n",
    "import matplotlib.pyplot as plt\n",
    "import pandas as pd\n",
    "import sys\n",
    "import matplotlib\n",
    "\n",
    "%matplotlib inline"
   ]
  },
  {
   "cell_type": "code",
   "execution_count": 8,
   "metadata": {},
   "outputs": [],
   "source": [
    "pitch_tuple_list = []\n",
    "for inning in game.inning_list:\n",
    "    for appearance in inning.top_half_appearance_list:\n",
    "        for event in appearance.event_list:\n",
    "            if isinstance(event, baseball_events.Pitch):\n",
    "                pitch_tuple_list.append(\n",
    "                    (str(appearance.pitcher), \n",
    "                     event.pitch_description,\n",
    "                     event.pitch_position,\n",
    "                     event.pitch_speed,\n",
    "                     event.pitch_type)\n",
    "                )"
   ]
  },
  {
   "cell_type": "code",
   "execution_count": 9,
   "metadata": {
    "scrolled": true
   },
   "outputs": [
    {
     "data": {
      "text/html": [
       "<div>\n",
       "<style scoped>\n",
       "    .dataframe tbody tr th:only-of-type {\n",
       "        vertical-align: middle;\n",
       "    }\n",
       "\n",
       "    .dataframe tbody tr th {\n",
       "        vertical-align: top;\n",
       "    }\n",
       "\n",
       "    .dataframe thead th {\n",
       "        text-align: right;\n",
       "    }\n",
       "</style>\n",
       "<table border=\"1\" class=\"dataframe\">\n",
       "  <thead>\n",
       "    <tr style=\"text-align: right;\">\n",
       "      <th></th>\n",
       "      <th>Pitcher</th>\n",
       "      <th>Pitch Description</th>\n",
       "      <th>Pitch Coordinate</th>\n",
       "      <th>Pitch Speed</th>\n",
       "      <th>Pitch Type</th>\n",
       "    </tr>\n",
       "  </thead>\n",
       "  <tbody>\n",
       "    <tr>\n",
       "      <th>0</th>\n",
       "      <td>21 Yu Darvish</td>\n",
       "      <td>Ball</td>\n",
       "      <td>(155.47, 160.83)</td>\n",
       "      <td>96.0</td>\n",
       "      <td>FF</td>\n",
       "    </tr>\n",
       "    <tr>\n",
       "      <th>1</th>\n",
       "      <td>21 Yu Darvish</td>\n",
       "      <td>Called Strike</td>\n",
       "      <td>(107.0, 171.09)</td>\n",
       "      <td>83.9</td>\n",
       "      <td>FC</td>\n",
       "    </tr>\n",
       "    <tr>\n",
       "      <th>2</th>\n",
       "      <td>21 Yu Darvish</td>\n",
       "      <td>In play, no out</td>\n",
       "      <td>(115.36, 183.1)</td>\n",
       "      <td>83.9</td>\n",
       "      <td>SL</td>\n",
       "    </tr>\n",
       "    <tr>\n",
       "      <th>3</th>\n",
       "      <td>21 Yu Darvish</td>\n",
       "      <td>In play, run(s)</td>\n",
       "      <td>(80.06, 168.03)</td>\n",
       "      <td>96.6</td>\n",
       "      <td>FF</td>\n",
       "    </tr>\n",
       "    <tr>\n",
       "      <th>4</th>\n",
       "      <td>21 Yu Darvish</td>\n",
       "      <td>Ball</td>\n",
       "      <td>(54.1, 216.52)</td>\n",
       "      <td>84.6</td>\n",
       "      <td>SL</td>\n",
       "    </tr>\n",
       "    <tr>\n",
       "      <th>5</th>\n",
       "      <td>21 Yu Darvish</td>\n",
       "      <td>Called Strike</td>\n",
       "      <td>(130.07, 187.18)</td>\n",
       "      <td>84.5</td>\n",
       "      <td>SL</td>\n",
       "    </tr>\n",
       "    <tr>\n",
       "      <th>6</th>\n",
       "      <td>21 Yu Darvish</td>\n",
       "      <td>Ball In Dirt</td>\n",
       "      <td>(60.62, 0.0)</td>\n",
       "      <td>75.0</td>\n",
       "      <td>CU</td>\n",
       "    </tr>\n",
       "    <tr>\n",
       "      <th>7</th>\n",
       "      <td>21 Yu Darvish</td>\n",
       "      <td>In play, run(s)</td>\n",
       "      <td>(58.63, 173.43)</td>\n",
       "      <td>84.7</td>\n",
       "      <td>SL</td>\n",
       "    </tr>\n",
       "    <tr>\n",
       "      <th>8</th>\n",
       "      <td>21 Yu Darvish</td>\n",
       "      <td>Swinging Strike</td>\n",
       "      <td>(100.96, 184.09)</td>\n",
       "      <td>95.7</td>\n",
       "      <td>FF</td>\n",
       "    </tr>\n",
       "    <tr>\n",
       "      <th>9</th>\n",
       "      <td>21 Yu Darvish</td>\n",
       "      <td>Called Strike</td>\n",
       "      <td>(127.58, 185.75)</td>\n",
       "      <td>84.7</td>\n",
       "      <td>SL</td>\n",
       "    </tr>\n",
       "    <tr>\n",
       "      <th>10</th>\n",
       "      <td>21 Yu Darvish</td>\n",
       "      <td>In play, out(s)</td>\n",
       "      <td>(112.06, 164.58)</td>\n",
       "      <td>87.5</td>\n",
       "      <td>CH</td>\n",
       "    </tr>\n",
       "    <tr>\n",
       "      <th>11</th>\n",
       "      <td>21 Yu Darvish</td>\n",
       "      <td>Called Strike</td>\n",
       "      <td>(81.71, 188.54)</td>\n",
       "      <td>96.1</td>\n",
       "      <td>FF</td>\n",
       "    </tr>\n",
       "    <tr>\n",
       "      <th>12</th>\n",
       "      <td>21 Yu Darvish</td>\n",
       "      <td>Called Strike</td>\n",
       "      <td>(75.98, 184.28)</td>\n",
       "      <td>96.4</td>\n",
       "      <td>FF</td>\n",
       "    </tr>\n",
       "    <tr>\n",
       "      <th>13</th>\n",
       "      <td>21 Yu Darvish</td>\n",
       "      <td>Ball</td>\n",
       "      <td>(34.43, 160.98)</td>\n",
       "      <td>69.5</td>\n",
       "      <td>CU</td>\n",
       "    </tr>\n",
       "    <tr>\n",
       "      <th>14</th>\n",
       "      <td>21 Yu Darvish</td>\n",
       "      <td>Ball</td>\n",
       "      <td>(61.74, 179.35)</td>\n",
       "      <td>86.9</td>\n",
       "      <td>CH</td>\n",
       "    </tr>\n",
       "    <tr>\n",
       "      <th>15</th>\n",
       "      <td>21 Yu Darvish</td>\n",
       "      <td>Foul</td>\n",
       "      <td>(134.63, 142.3)</td>\n",
       "      <td>85.3</td>\n",
       "      <td>FC</td>\n",
       "    </tr>\n",
       "    <tr>\n",
       "      <th>16</th>\n",
       "      <td>21 Yu Darvish</td>\n",
       "      <td>Foul</td>\n",
       "      <td>(103.85, 198.63)</td>\n",
       "      <td>85.0</td>\n",
       "      <td>SL</td>\n",
       "    </tr>\n",
       "    <tr>\n",
       "      <th>17</th>\n",
       "      <td>21 Yu Darvish</td>\n",
       "      <td>Ball</td>\n",
       "      <td>(76.6, 184.07)</td>\n",
       "      <td>96.2</td>\n",
       "      <td>FF</td>\n",
       "    </tr>\n",
       "    <tr>\n",
       "      <th>18</th>\n",
       "      <td>21 Yu Darvish</td>\n",
       "      <td>Foul</td>\n",
       "      <td>(106.54, 163.16)</td>\n",
       "      <td>85.1</td>\n",
       "      <td>SL</td>\n",
       "    </tr>\n",
       "    <tr>\n",
       "      <th>19</th>\n",
       "      <td>21 Yu Darvish</td>\n",
       "      <td>Foul</td>\n",
       "      <td>(99.66, 170.06)</td>\n",
       "      <td>83.5</td>\n",
       "      <td>SL</td>\n",
       "    </tr>\n",
       "    <tr>\n",
       "      <th>20</th>\n",
       "      <td>21 Yu Darvish</td>\n",
       "      <td>Foul</td>\n",
       "      <td>(115.8, 181.56)</td>\n",
       "      <td>84.0</td>\n",
       "      <td>SL</td>\n",
       "    </tr>\n",
       "    <tr>\n",
       "      <th>21</th>\n",
       "      <td>21 Yu Darvish</td>\n",
       "      <td>Foul</td>\n",
       "      <td>(120.15, 169.57)</td>\n",
       "      <td>95.2</td>\n",
       "      <td>FF</td>\n",
       "    </tr>\n",
       "    <tr>\n",
       "      <th>22</th>\n",
       "      <td>21 Yu Darvish</td>\n",
       "      <td>Foul</td>\n",
       "      <td>(100.09, 210.1)</td>\n",
       "      <td>86.0</td>\n",
       "      <td>SL</td>\n",
       "    </tr>\n",
       "    <tr>\n",
       "      <th>23</th>\n",
       "      <td>21 Yu Darvish</td>\n",
       "      <td>In play, out(s)</td>\n",
       "      <td>(111.75, 193.21)</td>\n",
       "      <td>95.2</td>\n",
       "      <td>FF</td>\n",
       "    </tr>\n",
       "    <tr>\n",
       "      <th>24</th>\n",
       "      <td>21 Yu Darvish</td>\n",
       "      <td>Called Strike</td>\n",
       "      <td>(141.55, 148.99)</td>\n",
       "      <td>86.8</td>\n",
       "      <td>FC</td>\n",
       "    </tr>\n",
       "    <tr>\n",
       "      <th>25</th>\n",
       "      <td>21 Yu Darvish</td>\n",
       "      <td>Called Strike</td>\n",
       "      <td>(89.73, 168.52)</td>\n",
       "      <td>76.6</td>\n",
       "      <td>SL</td>\n",
       "    </tr>\n",
       "    <tr>\n",
       "      <th>26</th>\n",
       "      <td>21 Yu Darvish</td>\n",
       "      <td>Ball</td>\n",
       "      <td>(178.67, 140.97)</td>\n",
       "      <td>95.3</td>\n",
       "      <td>FF</td>\n",
       "    </tr>\n",
       "    <tr>\n",
       "      <th>27</th>\n",
       "      <td>21 Yu Darvish</td>\n",
       "      <td>Ball</td>\n",
       "      <td>(92.48, 156.48)</td>\n",
       "      <td>78.3</td>\n",
       "      <td>SL</td>\n",
       "    </tr>\n",
       "    <tr>\n",
       "      <th>28</th>\n",
       "      <td>21 Yu Darvish</td>\n",
       "      <td>Foul</td>\n",
       "      <td>(112.89, 180.27)</td>\n",
       "      <td>82.3</td>\n",
       "      <td>SL</td>\n",
       "    </tr>\n",
       "    <tr>\n",
       "      <th>29</th>\n",
       "      <td>21 Yu Darvish</td>\n",
       "      <td>Foul</td>\n",
       "      <td>(62.65, 181.27)</td>\n",
       "      <td>85.7</td>\n",
       "      <td>FC</td>\n",
       "    </tr>\n",
       "    <tr>\n",
       "      <th>...</th>\n",
       "      <td>...</td>\n",
       "      <td>...</td>\n",
       "      <td>...</td>\n",
       "      <td>...</td>\n",
       "      <td>...</td>\n",
       "    </tr>\n",
       "    <tr>\n",
       "      <th>116</th>\n",
       "      <td>74 Kenley Jansen</td>\n",
       "      <td>Ball</td>\n",
       "      <td>(89.68, 145.98)</td>\n",
       "      <td>91.6</td>\n",
       "      <td>FC</td>\n",
       "    </tr>\n",
       "    <tr>\n",
       "      <th>117</th>\n",
       "      <td>74 Kenley Jansen</td>\n",
       "      <td>Ball</td>\n",
       "      <td>(73.88, 177.89)</td>\n",
       "      <td>92.2</td>\n",
       "      <td>FC</td>\n",
       "    </tr>\n",
       "    <tr>\n",
       "      <th>118</th>\n",
       "      <td>74 Kenley Jansen</td>\n",
       "      <td>Ball</td>\n",
       "      <td>(131.05, 135.08)</td>\n",
       "      <td>91.1</td>\n",
       "      <td>FC</td>\n",
       "    </tr>\n",
       "    <tr>\n",
       "      <th>119</th>\n",
       "      <td>74 Kenley Jansen</td>\n",
       "      <td>Foul</td>\n",
       "      <td>(117.44, 164.54)</td>\n",
       "      <td>91.7</td>\n",
       "      <td>FC</td>\n",
       "    </tr>\n",
       "    <tr>\n",
       "      <th>120</th>\n",
       "      <td>74 Kenley Jansen</td>\n",
       "      <td>In play, out(s)</td>\n",
       "      <td>(133.07, 147.5)</td>\n",
       "      <td>94.3</td>\n",
       "      <td>FC</td>\n",
       "    </tr>\n",
       "    <tr>\n",
       "      <th>121</th>\n",
       "      <td>57 Alex Wood</td>\n",
       "      <td>Ball</td>\n",
       "      <td>(61.21, 155.78)</td>\n",
       "      <td>90.0</td>\n",
       "      <td>FT</td>\n",
       "    </tr>\n",
       "    <tr>\n",
       "      <th>122</th>\n",
       "      <td>57 Alex Wood</td>\n",
       "      <td>Ball</td>\n",
       "      <td>(98.03, 219.07)</td>\n",
       "      <td>82.0</td>\n",
       "      <td>CH</td>\n",
       "    </tr>\n",
       "    <tr>\n",
       "      <th>123</th>\n",
       "      <td>57 Alex Wood</td>\n",
       "      <td>In play, out(s)</td>\n",
       "      <td>(101.93, 165.08)</td>\n",
       "      <td>89.2</td>\n",
       "      <td>FT</td>\n",
       "    </tr>\n",
       "    <tr>\n",
       "      <th>124</th>\n",
       "      <td>57 Alex Wood</td>\n",
       "      <td>Called Strike</td>\n",
       "      <td>(81.39, 172.17)</td>\n",
       "      <td>82.2</td>\n",
       "      <td>KC</td>\n",
       "    </tr>\n",
       "    <tr>\n",
       "      <th>125</th>\n",
       "      <td>57 Alex Wood</td>\n",
       "      <td>Ball</td>\n",
       "      <td>(141.99, 196.13)</td>\n",
       "      <td>83.7</td>\n",
       "      <td>KC</td>\n",
       "    </tr>\n",
       "    <tr>\n",
       "      <th>126</th>\n",
       "      <td>57 Alex Wood</td>\n",
       "      <td>Foul</td>\n",
       "      <td>(91.95, 186.95)</td>\n",
       "      <td>90.4</td>\n",
       "      <td>FT</td>\n",
       "    </tr>\n",
       "    <tr>\n",
       "      <th>127</th>\n",
       "      <td>57 Alex Wood</td>\n",
       "      <td>Called Strike</td>\n",
       "      <td>(140.82, 176.62)</td>\n",
       "      <td>91.7</td>\n",
       "      <td>FT</td>\n",
       "    </tr>\n",
       "    <tr>\n",
       "      <th>128</th>\n",
       "      <td>57 Alex Wood</td>\n",
       "      <td>Ball</td>\n",
       "      <td>(95.9, 211.38)</td>\n",
       "      <td>90.8</td>\n",
       "      <td>FT</td>\n",
       "    </tr>\n",
       "    <tr>\n",
       "      <th>129</th>\n",
       "      <td>57 Alex Wood</td>\n",
       "      <td>Called Strike</td>\n",
       "      <td>(73.03, 190.36)</td>\n",
       "      <td>90.2</td>\n",
       "      <td>FT</td>\n",
       "    </tr>\n",
       "    <tr>\n",
       "      <th>130</th>\n",
       "      <td>57 Alex Wood</td>\n",
       "      <td>Foul</td>\n",
       "      <td>(84.89, 190.49)</td>\n",
       "      <td>85.2</td>\n",
       "      <td>CH</td>\n",
       "    </tr>\n",
       "    <tr>\n",
       "      <th>131</th>\n",
       "      <td>57 Alex Wood</td>\n",
       "      <td>Ball</td>\n",
       "      <td>(43.8, 177.46)</td>\n",
       "      <td>85.1</td>\n",
       "      <td>CH</td>\n",
       "    </tr>\n",
       "    <tr>\n",
       "      <th>132</th>\n",
       "      <td>57 Alex Wood</td>\n",
       "      <td>Foul</td>\n",
       "      <td>(60.44, 180.89)</td>\n",
       "      <td>84.5</td>\n",
       "      <td>CH</td>\n",
       "    </tr>\n",
       "    <tr>\n",
       "      <th>133</th>\n",
       "      <td>57 Alex Wood</td>\n",
       "      <td>Foul</td>\n",
       "      <td>(72.07, 152.82)</td>\n",
       "      <td>83.4</td>\n",
       "      <td>KC</td>\n",
       "    </tr>\n",
       "    <tr>\n",
       "      <th>134</th>\n",
       "      <td>57 Alex Wood</td>\n",
       "      <td>In play, out(s)</td>\n",
       "      <td>(67.4, 201.57)</td>\n",
       "      <td>84.1</td>\n",
       "      <td>CH</td>\n",
       "    </tr>\n",
       "    <tr>\n",
       "      <th>135</th>\n",
       "      <td>57 Alex Wood</td>\n",
       "      <td>Called Strike</td>\n",
       "      <td>(105.27, 166.74)</td>\n",
       "      <td>90.3</td>\n",
       "      <td>FT</td>\n",
       "    </tr>\n",
       "    <tr>\n",
       "      <th>136</th>\n",
       "      <td>57 Alex Wood</td>\n",
       "      <td>Called Strike</td>\n",
       "      <td>(119.08, 184.05)</td>\n",
       "      <td>90.4</td>\n",
       "      <td>FT</td>\n",
       "    </tr>\n",
       "    <tr>\n",
       "      <th>137</th>\n",
       "      <td>57 Alex Wood</td>\n",
       "      <td>Called Strike</td>\n",
       "      <td>(96.75, 197.82)</td>\n",
       "      <td>83.7</td>\n",
       "      <td>KC</td>\n",
       "    </tr>\n",
       "    <tr>\n",
       "      <th>138</th>\n",
       "      <td>57 Alex Wood</td>\n",
       "      <td>Ball</td>\n",
       "      <td>(96.78, 201.43)</td>\n",
       "      <td>90.9</td>\n",
       "      <td>FT</td>\n",
       "    </tr>\n",
       "    <tr>\n",
       "      <th>139</th>\n",
       "      <td>57 Alex Wood</td>\n",
       "      <td>Ball</td>\n",
       "      <td>(94.77, 203.98)</td>\n",
       "      <td>83.5</td>\n",
       "      <td>CH</td>\n",
       "    </tr>\n",
       "    <tr>\n",
       "      <th>140</th>\n",
       "      <td>57 Alex Wood</td>\n",
       "      <td>Swinging Strike</td>\n",
       "      <td>(91.42, 162.09)</td>\n",
       "      <td>90.7</td>\n",
       "      <td>FT</td>\n",
       "    </tr>\n",
       "    <tr>\n",
       "      <th>141</th>\n",
       "      <td>57 Alex Wood</td>\n",
       "      <td>Swinging Strike</td>\n",
       "      <td>(127.43, 201.74)</td>\n",
       "      <td>85.0</td>\n",
       "      <td>CH</td>\n",
       "    </tr>\n",
       "    <tr>\n",
       "      <th>142</th>\n",
       "      <td>57 Alex Wood</td>\n",
       "      <td>Called Strike</td>\n",
       "      <td>(80.18, 203.02)</td>\n",
       "      <td>84.0</td>\n",
       "      <td>CH</td>\n",
       "    </tr>\n",
       "    <tr>\n",
       "      <th>143</th>\n",
       "      <td>57 Alex Wood</td>\n",
       "      <td>Foul</td>\n",
       "      <td>(110.0, 191.95)</td>\n",
       "      <td>91.0</td>\n",
       "      <td>FT</td>\n",
       "    </tr>\n",
       "    <tr>\n",
       "      <th>144</th>\n",
       "      <td>57 Alex Wood</td>\n",
       "      <td>Swinging Strike</td>\n",
       "      <td>(103.02, 160.19)</td>\n",
       "      <td>91.5</td>\n",
       "      <td>FT</td>\n",
       "    </tr>\n",
       "    <tr>\n",
       "      <th>145</th>\n",
       "      <td>57 Alex Wood</td>\n",
       "      <td>In play, out(s)</td>\n",
       "      <td>(77.09, 193.22)</td>\n",
       "      <td>84.0</td>\n",
       "      <td>CH</td>\n",
       "    </tr>\n",
       "  </tbody>\n",
       "</table>\n",
       "<p>146 rows × 5 columns</p>\n",
       "</div>"
      ],
      "text/plain": [
       "              Pitcher Pitch Description  Pitch Coordinate  Pitch Speed  \\\n",
       "0       21 Yu Darvish              Ball  (155.47, 160.83)         96.0   \n",
       "1       21 Yu Darvish     Called Strike   (107.0, 171.09)         83.9   \n",
       "2       21 Yu Darvish   In play, no out   (115.36, 183.1)         83.9   \n",
       "3       21 Yu Darvish   In play, run(s)   (80.06, 168.03)         96.6   \n",
       "4       21 Yu Darvish              Ball    (54.1, 216.52)         84.6   \n",
       "5       21 Yu Darvish     Called Strike  (130.07, 187.18)         84.5   \n",
       "6       21 Yu Darvish      Ball In Dirt      (60.62, 0.0)         75.0   \n",
       "7       21 Yu Darvish   In play, run(s)   (58.63, 173.43)         84.7   \n",
       "8       21 Yu Darvish   Swinging Strike  (100.96, 184.09)         95.7   \n",
       "9       21 Yu Darvish     Called Strike  (127.58, 185.75)         84.7   \n",
       "10      21 Yu Darvish   In play, out(s)  (112.06, 164.58)         87.5   \n",
       "11      21 Yu Darvish     Called Strike   (81.71, 188.54)         96.1   \n",
       "12      21 Yu Darvish     Called Strike   (75.98, 184.28)         96.4   \n",
       "13      21 Yu Darvish              Ball   (34.43, 160.98)         69.5   \n",
       "14      21 Yu Darvish              Ball   (61.74, 179.35)         86.9   \n",
       "15      21 Yu Darvish              Foul   (134.63, 142.3)         85.3   \n",
       "16      21 Yu Darvish              Foul  (103.85, 198.63)         85.0   \n",
       "17      21 Yu Darvish              Ball    (76.6, 184.07)         96.2   \n",
       "18      21 Yu Darvish              Foul  (106.54, 163.16)         85.1   \n",
       "19      21 Yu Darvish              Foul   (99.66, 170.06)         83.5   \n",
       "20      21 Yu Darvish              Foul   (115.8, 181.56)         84.0   \n",
       "21      21 Yu Darvish              Foul  (120.15, 169.57)         95.2   \n",
       "22      21 Yu Darvish              Foul   (100.09, 210.1)         86.0   \n",
       "23      21 Yu Darvish   In play, out(s)  (111.75, 193.21)         95.2   \n",
       "24      21 Yu Darvish     Called Strike  (141.55, 148.99)         86.8   \n",
       "25      21 Yu Darvish     Called Strike   (89.73, 168.52)         76.6   \n",
       "26      21 Yu Darvish              Ball  (178.67, 140.97)         95.3   \n",
       "27      21 Yu Darvish              Ball   (92.48, 156.48)         78.3   \n",
       "28      21 Yu Darvish              Foul  (112.89, 180.27)         82.3   \n",
       "29      21 Yu Darvish              Foul   (62.65, 181.27)         85.7   \n",
       "..                ...               ...               ...          ...   \n",
       "116  74 Kenley Jansen              Ball   (89.68, 145.98)         91.6   \n",
       "117  74 Kenley Jansen              Ball   (73.88, 177.89)         92.2   \n",
       "118  74 Kenley Jansen              Ball  (131.05, 135.08)         91.1   \n",
       "119  74 Kenley Jansen              Foul  (117.44, 164.54)         91.7   \n",
       "120  74 Kenley Jansen   In play, out(s)   (133.07, 147.5)         94.3   \n",
       "121      57 Alex Wood              Ball   (61.21, 155.78)         90.0   \n",
       "122      57 Alex Wood              Ball   (98.03, 219.07)         82.0   \n",
       "123      57 Alex Wood   In play, out(s)  (101.93, 165.08)         89.2   \n",
       "124      57 Alex Wood     Called Strike   (81.39, 172.17)         82.2   \n",
       "125      57 Alex Wood              Ball  (141.99, 196.13)         83.7   \n",
       "126      57 Alex Wood              Foul   (91.95, 186.95)         90.4   \n",
       "127      57 Alex Wood     Called Strike  (140.82, 176.62)         91.7   \n",
       "128      57 Alex Wood              Ball    (95.9, 211.38)         90.8   \n",
       "129      57 Alex Wood     Called Strike   (73.03, 190.36)         90.2   \n",
       "130      57 Alex Wood              Foul   (84.89, 190.49)         85.2   \n",
       "131      57 Alex Wood              Ball    (43.8, 177.46)         85.1   \n",
       "132      57 Alex Wood              Foul   (60.44, 180.89)         84.5   \n",
       "133      57 Alex Wood              Foul   (72.07, 152.82)         83.4   \n",
       "134      57 Alex Wood   In play, out(s)    (67.4, 201.57)         84.1   \n",
       "135      57 Alex Wood     Called Strike  (105.27, 166.74)         90.3   \n",
       "136      57 Alex Wood     Called Strike  (119.08, 184.05)         90.4   \n",
       "137      57 Alex Wood     Called Strike   (96.75, 197.82)         83.7   \n",
       "138      57 Alex Wood              Ball   (96.78, 201.43)         90.9   \n",
       "139      57 Alex Wood              Ball   (94.77, 203.98)         83.5   \n",
       "140      57 Alex Wood   Swinging Strike   (91.42, 162.09)         90.7   \n",
       "141      57 Alex Wood   Swinging Strike  (127.43, 201.74)         85.0   \n",
       "142      57 Alex Wood     Called Strike   (80.18, 203.02)         84.0   \n",
       "143      57 Alex Wood              Foul   (110.0, 191.95)         91.0   \n",
       "144      57 Alex Wood   Swinging Strike  (103.02, 160.19)         91.5   \n",
       "145      57 Alex Wood   In play, out(s)   (77.09, 193.22)         84.0   \n",
       "\n",
       "    Pitch Type  \n",
       "0           FF  \n",
       "1           FC  \n",
       "2           SL  \n",
       "3           FF  \n",
       "4           SL  \n",
       "5           SL  \n",
       "6           CU  \n",
       "7           SL  \n",
       "8           FF  \n",
       "9           SL  \n",
       "10          CH  \n",
       "11          FF  \n",
       "12          FF  \n",
       "13          CU  \n",
       "14          CH  \n",
       "15          FC  \n",
       "16          SL  \n",
       "17          FF  \n",
       "18          SL  \n",
       "19          SL  \n",
       "20          SL  \n",
       "21          FF  \n",
       "22          SL  \n",
       "23          FF  \n",
       "24          FC  \n",
       "25          SL  \n",
       "26          FF  \n",
       "27          SL  \n",
       "28          SL  \n",
       "29          FC  \n",
       "..         ...  \n",
       "116         FC  \n",
       "117         FC  \n",
       "118         FC  \n",
       "119         FC  \n",
       "120         FC  \n",
       "121         FT  \n",
       "122         CH  \n",
       "123         FT  \n",
       "124         KC  \n",
       "125         KC  \n",
       "126         FT  \n",
       "127         FT  \n",
       "128         FT  \n",
       "129         FT  \n",
       "130         CH  \n",
       "131         CH  \n",
       "132         CH  \n",
       "133         KC  \n",
       "134         CH  \n",
       "135         FT  \n",
       "136         FT  \n",
       "137         KC  \n",
       "138         FT  \n",
       "139         CH  \n",
       "140         FT  \n",
       "141         CH  \n",
       "142         CH  \n",
       "143         FT  \n",
       "144         FT  \n",
       "145         CH  \n",
       "\n",
       "[146 rows x 5 columns]"
      ]
     },
     "execution_count": 9,
     "metadata": {},
     "output_type": "execute_result"
    }
   ],
   "source": [
    "data = pd.DataFrame(data=pitch_tuple_list, columns=['Pitcher', 'Pitch Description', 'Pitch Coordinate', 'Pitch Speed', 'Pitch Type'])\n",
    "data"
   ]
  },
  {
   "cell_type": "code",
   "execution_count": 10,
   "metadata": {},
   "outputs": [
    {
     "data": {
      "text/plain": [
       "22 Clayton Kershaw    51\n",
       "21 Yu Darvish         47\n",
       "57 Alex Wood          25\n",
       "74 Kenley Jansen      20\n",
       "17 Brandon Morrow      3\n",
       "Name: Pitcher, dtype: int64"
      ]
     },
     "execution_count": 10,
     "metadata": {},
     "output_type": "execute_result"
    }
   ],
   "source": [
    "data['Pitcher'].value_counts()"
   ]
  },
  {
   "cell_type": "code",
   "execution_count": 11,
   "metadata": {},
   "outputs": [
    {
     "data": {
      "text/plain": [
       "<matplotlib.axes._subplots.AxesSubplot at 0x109f1d278>"
      ]
     },
     "execution_count": 11,
     "metadata": {},
     "output_type": "execute_result"
    },
    {
     "data": {
      "image/png": "[encoded data removed]",
      "text/plain": [
       "<matplotlib.figure.Figure at 0x109e5fe48>"
      ]
     },
     "metadata": {},
     "output_type": "display_data"
    }
   ],
   "source": [
    "data['Pitcher'].value_counts().plot.bar()"
   ]
  },
  {
   "cell_type": "code",
   "execution_count": 12,
   "metadata": {},
   "outputs": [
    {
     "data": {
      "text/plain": [
       "<matplotlib.axes._subplots.AxesSubplot at 0x109f46438>"
      ]
     },
     "execution_count": 12,
     "metadata": {},
     "output_type": "execute_result"
    },
    {
     "data": {
      "image/png": "[encoded data removed]",
      "text/plain": [
       "<matplotlib.figure.Figure at 0x109e5f278>"
      ]
     },
     "metadata": {},
     "output_type": "display_data"
    }
   ],
   "source": [
    "plt.axis('equal')\n",
    "data['Pitch Type'].value_counts().plot(kind='pie', radius=1.5, autopct='%1.0f%%', pctdistance=1.1, labeldistance=1.2)"
   ]
  },
  {
   "cell_type": "code",
   "execution_count": 13,
   "metadata": {},
   "outputs": [
    {
     "data": {
      "text/plain": [
       "<matplotlib.axes._subplots.AxesSubplot at 0x109feafd0>"
      ]
     },
     "execution_count": 13,
     "metadata": {},
     "output_type": "execute_result"
    },
    {
     "data": {
      "image/png": "[encoded data removed]",
      "text/plain": [
       "<matplotlib.figure.Figure at 0x10a181fd0>"
      ]
     },
     "metadata": {},
     "output_type": "display_data"
    }
   ],
   "source": [
    "plt.axis('equal')\n",
    "data['Pitch Description'].value_counts().plot(kind='pie', radius=1.5, autopct='%1.0f%%', pctdistance=1.1, labeldistance=1.2)"
   ]
  },
  {
   "cell_type": "code",
   "execution_count": 14,
   "metadata": {},
   "outputs": [
    {
     "data": {
      "text/plain": [
       "array([[<matplotlib.axes._subplots.AxesSubplot object at 0x10a20d438>]], dtype=object)"
      ]
     },
     "execution_count": 14,
     "metadata": {},
     "output_type": "execute_result"
    },
    {
     "data": {
      "image/png": "[encoded data removed]",
      "text/plain": [
       "<matplotlib.figure.Figure at 0x10a21b358>"
      ]
     },
     "metadata": {},
     "output_type": "display_data"
    }
   ],
   "source": [
    "data.dropna(inplace=True)\n",
    "data.count()\n",
    "data.hist()"
   ]
  },
  {
   "cell_type": "code",
   "execution_count": 15,
   "metadata": {},
   "outputs": [
    {
     "data": {
      "text/plain": [
       "<matplotlib.axes._subplots.AxesSubplot at 0x10a4382b0>"
      ]
     },
     "execution_count": 15,
     "metadata": {},
     "output_type": "execute_result"
    },
    {
     "data": {
      "image/png": "[encoded data removed]",
      "text/plain": [
       "<matplotlib.figure.Figure at 0x10a543748>"
      ]
     },
     "metadata": {},
     "output_type": "display_data"
    }
   ],
   "source": [
    "data.plot.kde()"
   ]
  },
  {
   "cell_type": "code",
   "execution_count": 16,
   "metadata": {},
   "outputs": [
    {
     "data": {
      "text/plain": [
       "<matplotlib.legend.Legend at 0x10a203eb8>"
      ]
     },
     "execution_count": 16,
     "metadata": {},
     "output_type": "execute_result"
    },
    {
     "data": {
      "image/png": "[encoded data removed]",
      "text/plain": [
       "<matplotlib.figure.Figure at 0x10a203e48>"
      ]
     },
     "metadata": {},
     "output_type": "display_data"
    }
   ],
   "source": [
    "fig, ax = plt.subplots()\n",
    "ax.set_xlim(50, 120)\n",
    "for pitcher in data['Pitcher'].unique():\n",
    "    s = data[data['Pitcher'] == pitcher]['Pitch Speed']\n",
    "    s.plot.kde(ax=ax, label=pitcher)\n",
    "\n",
    "ax.legend()"
   ]
  },
  {
   "cell_type": "code",
   "execution_count": 17,
   "metadata": {},
   "outputs": [
    {
     "data": {
      "text/plain": [
       "<matplotlib.legend.Legend at 0x10c4c3be0>"
      ]
     },
     "execution_count": 17,
     "metadata": {},
     "output_type": "execute_result"
    },
    {
     "data": {
      "image/png": "[encoded data removed]",
      "text/plain": [
       "<matplotlib.figure.Figure at 0x10c4c3ef0>"
      ]
     },
     "metadata": {},
     "output_type": "display_data"
    }
   ],
   "source": [
    "fig, ax = plt.subplots()\n",
    "ax.set_xlim(50, 120)\n",
    "for desc in data['Pitch Type'].unique():\n",
    "    s = data[data['Pitch Type'] == desc]['Pitch Speed']\n",
    "    s.plot.kde(ax=ax, label=desc)\n",
    "\n",
    "ax.legend()"
   ]
  },
  {
   "cell_type": "code",
   "execution_count": 18,
   "metadata": {},
   "outputs": [
    {
     "data": {
      "text/plain": [
       "<matplotlib.axes._subplots.AxesSubplot at 0x10c5c29b0>"
      ]
     },
     "execution_count": 18,
     "metadata": {},
     "output_type": "execute_result"
    },
    {
     "data": {
      "image/png": "[encoded data removed]",
      "text/plain": [
       "<matplotlib.figure.Figure at 0x109f40f28>"
      ]
     },
     "metadata": {},
     "output_type": "display_data"
    }
   ],
   "source": [
    "fig, ax = plt.subplots(figsize=(15,7))\n",
    "data.groupby(['Pitcher', 'Pitch Description']).size().unstack().plot.bar(ax=ax)"
   ]
  },
  {
   "cell_type": "code",
   "execution_count": 19,
   "metadata": {
    "scrolled": false
   },
   "outputs": [
    {
     "data": {
      "text/plain": [
       "<matplotlib.axes._subplots.AxesSubplot at 0x10c6a4898>"
      ]
     },
     "execution_count": 19,
     "metadata": {},
     "output_type": "execute_result"
    },
    {
     "data": {
      "image/png": "[encoded data removed]",
      "text/plain": [
       "<matplotlib.figure.Figure at 0x10c3b0320>"
      ]
     },
     "metadata": {},
     "output_type": "display_data"
    }
   ],
   "source": [
    "fig, ax = plt.subplots(figsize=(15,7))\n",
    "data.groupby(['Pitcher', 'Pitch Type']).size().unstack().plot.bar(ax=ax)"
   ]
  },
  {
   "cell_type": "code",
   "execution_count": 20,
   "metadata": {},
   "outputs": [
    {
     "data": {
      "text/plain": [
       "[21 Yu Darvish,\n",
       " 17 Brandon Morrow,\n",
       " 22 Clayton Kershaw,\n",
       " 74 Kenley Jansen,\n",
       " 57 Alex Wood]"
      ]
     },
     "execution_count": 20,
     "metadata": {},
     "output_type": "execute_result"
    }
   ],
   "source": [
    "list(game.home_pitcher_box_score_dict)"
   ]
  },
  {
   "cell_type": "code",
   "execution_count": 21,
   "metadata": {},
   "outputs": [],
   "source": [
    "kenley_jansen = list(game.home_pitcher_box_score_dict)[3]"
   ]
  },
  {
   "cell_type": "code",
   "execution_count": 22,
   "metadata": {},
   "outputs": [
    {
     "data": {
      "text/plain": [
       "PitcherBoxScore(IP=1.0, WLS='', BF=4, H=0, R=0, ER=0, SO=1, BB=1, IBB=0, HBP=0, BLK=0, WP=0, HR=0, S=12, P=20, ERA=0.0, WHIP=1.0)"
      ]
     },
     "execution_count": 22,
     "metadata": {},
     "output_type": "execute_result"
    }
   ],
   "source": [
    "game.home_pitcher_box_score_dict[kenley_jansen]"
   ]
  },
  {
   "cell_type": "code",
   "execution_count": 23,
   "metadata": {},
   "outputs": [
    {
     "data": {
      "image/png": "[encoded data removed]",
      "text/plain": [
       "<matplotlib.figure.Figure at 0x10ce85ba8>"
      ]
     },
     "metadata": {},
     "output_type": "display_data"
    },
    {
     "data": {
      "image/png": "[encoded data removed]",
      "text/plain": [
       "<matplotlib.figure.Figure at 0x10c5aeda0>"
      ]
     },
     "metadata": {},
     "output_type": "display_data"
    },
    {
     "data": {
      "image/png": "[encoded data removed]",
      "text/plain": [
       "<matplotlib.figure.Figure at 0x10ceb1cf8>"
      ]
     },
     "metadata": {},
     "output_type": "display_data"
    },
    {
     "data": {
      "image/png": "[encoded data removed]",
      "text/plain": [
       "<matplotlib.figure.Figure at 0x10d2214a8>"
      ]
     },
     "metadata": {},
     "output_type": "display_data"
    },
    {
     "data": {
      "image/png": "[encoded data removed]",
      "text/plain": [
       "<matplotlib.figure.Figure at 0x10d397668>"
      ]
     },
     "metadata": {},
     "output_type": "display_data"
    }
   ],
   "source": [
    "for pitcher in data['Pitcher'].unique():\n",
    "    plt.ylim(0, 125)\n",
    "    plt.xlim(0, 250)\n",
    "    bx = [250 - x[2][0] for x in pitch_tuple_list if x[0] == pitcher if 'Ball' in x[1]]\n",
    "    by = [250 - x[2][1] for x in pitch_tuple_list if x[0] == pitcher if 'Ball' in x[1]]\n",
    "    cx = [250 - x[2][0] for x in pitch_tuple_list if x[0] == pitcher if 'Called Strike' in x[1]]\n",
    "    cy = [250 - x[2][1] for x in pitch_tuple_list if x[0] == pitcher if 'Called Strike' in x[1]]\n",
    "    ox = [250 - x[2][0] for x in pitch_tuple_list if x[0] == pitcher if ('Ball' not in x[1] and 'Called Strike' not in x[1])]\n",
    "    oy = [250 - x[2][1] for x in pitch_tuple_list if x[0] == pitcher if ('Ball' not in x[1] and 'Called Strike' not in x[1])]\n",
    "    b = plt.scatter(bx, by, c='b')\n",
    "    c = plt.scatter(cx, cy, c='r')\n",
    "    o = plt.scatter(ox, oy, c='g')\n",
    "\n",
    "    plt.legend((b, c, o),\n",
    "               ('Ball', 'Called Strike', 'Other'),\n",
    "               scatterpoints=1,\n",
    "               loc='upper right',\n",
    "               ncol=1,\n",
    "               fontsize=8)\n",
    "\n",
    "    plt.title(pitcher)\n",
    "    plt.show()"
   ]
  },
  {
   "cell_type": "markdown",
   "metadata": {},
   "source": [
    "### Analyze a player's season"
   ]
  },
  {
   "cell_type": "code",
   "execution_count": null,
   "metadata": {},
   "outputs": [],
   "source": [
    "game_list_2017 = fetch_game.get_game_list_from_file_range('1-1-2017', '12-31-2017', '/Users/benjamincrom/repos/livebaseballscorecards-artifacts/baseball_files')\n",
    "len(game_list_2017)"
   ]
  },
  {
   "cell_type": "code",
   "execution_count": null,
   "metadata": {},
   "outputs": [],
   "source": [
    "pitch_tuple_list_2 = []\n",
    "for game_id, game in game_list_2017:\n",
    "    if game.home_team.name == 'Atlanta Braves' or game.away_team.name == 'Atlanta Braves':\n",
    "        for inning in game.inning_list:\n",
    "            for appearance in inning.top_half_appearance_list:\n",
    "                if 'Dickey' in str(appearance.pitcher):\n",
    "                    for event in appearance.event_list:\n",
    "                        if isinstance(event, baseball_events.Pitch):\n",
    "                            pitch_tuple_list_2.append(\n",
    "                                (str(appearance.pitcher), \n",
    "                                 event.pitch_description,\n",
    "                                 event.pitch_position,\n",
    "                                 event.pitch_speed,\n",
    "                                 event.pitch_type)\n",
    "                            )\n",
    "\n",
    "len(pitch_tuple_list_2)"
   ]
  },
  {
   "cell_type": "code",
   "execution_count": null,
   "metadata": {},
   "outputs": [],
   "source": [
    "df = pd.DataFrame(data=pitch_tuple_list_2, columns=['Pitcher', 'Pitch Description', 'Pitch Coordinate', 'Pitch Speed', 'Pitch Type'])\n",
    "df['Pitch Type'].value_counts().plot.bar()"
   ]
  },
  {
   "cell_type": "code",
   "execution_count": null,
   "metadata": {},
   "outputs": [],
   "source": [
    "plt.axis('equal')\n",
    "df['Pitch Description'].value_counts().plot(kind='pie', radius=2, autopct='%1.0f%%', pctdistance=1.1, labeldistance=1.2)\n",
    "plt.ylabel('')\n",
    "plt.show()"
   ]
  },
  {
   "cell_type": "code",
   "execution_count": null,
   "metadata": {
    "scrolled": true
   },
   "outputs": [],
   "source": [
    "df.dropna(inplace=True)\n",
    "ax.set_xlim(50, 100)\n",
    "df.plot.kde()\n",
    "ax.legend()"
   ]
  },
  {
   "cell_type": "code",
   "execution_count": null,
   "metadata": {},
   "outputs": [],
   "source": [
    "fig, ax = plt.subplots()\n",
    "ax.set_xlim(50, 100)\n",
    "for desc in df['Pitch Type'].unique():\n",
    "    if desc != 'PO':\n",
    "        s = df[df['Pitch Type'] == desc]['Pitch Speed']\n",
    "        s.plot.kde(ax=ax, label=desc)\n",
    "\n",
    "ax.legend()"
   ]
  },
  {
   "cell_type": "markdown",
   "metadata": {},
   "source": [
    "### Analyze a lineup of pitchers"
   ]
  },
  {
   "cell_type": "code",
   "execution_count": null,
   "metadata": {},
   "outputs": [],
   "source": [
    "import datetime\n",
    "import dateutil.parser\n",
    "import pytz\n",
    "pitch_tuple_list_3 = []\n",
    "for game_id, game in game_list_2017:\n",
    "    if game.home_team.name == 'Atlanta Braves' and dateutil.parser.parse(game.game_date_str) > datetime.datetime(2017, 3, 31):\n",
    "        for inning in game.inning_list:\n",
    "            for appearance in inning.top_half_appearance_list:\n",
    "                pitch_tuple_list_3.append(\n",
    "                    (str(appearance.pitcher),\n",
    "                     str(appearance.batter),\n",
    "                     len(appearance.out_runners_list),\n",
    "                     len(appearance.scoring_runners_list),\n",
    "                     len(appearance.runners_batted_in_list),\n",
    "                     appearance.scorecard_summary,\n",
    "                     appearance.got_on_base,\n",
    "                     appearance.plate_appearance_summary,\n",
    "                     appearance.plate_appearance_description,\n",
    "                     appearance.error_str,\n",
    "                     appearance.inning_outs)\n",
    "                )\n",
    "    if game.away_team.name == 'Atlanta Braves' and dateutil.parser.parse(game.game_date_str) > datetime.datetime(2017, 3, 31):\n",
    "        for inning in game.inning_list:\n",
    "            if inning.bottom_half_appearance_list:\n",
    "                for appearance in inning.bottom_half_appearance_list:\n",
    "                    pitch_tuple_list_3.append(\n",
    "                        (str(appearance.pitcher),\n",
    "                         str(appearance.batter),\n",
    "                         len(appearance.out_runners_list),\n",
    "                         len(appearance.scoring_runners_list),\n",
    "                         len(appearance.runners_batted_in_list),\n",
    "                         appearance.scorecard_summary,\n",
    "                         appearance.got_on_base,\n",
    "                         appearance.plate_appearance_summary,\n",
    "                         appearance.plate_appearance_description,\n",
    "                         appearance.error_str,\n",
    "                         appearance.inning_outs)\n",
    "                    )\n",
    "\n",
    "df3 = pd.DataFrame(data=pitch_tuple_list_3, columns=['Pitcher',\n",
    "                                                     'Batter',\n",
    "                                                     'Out Runners',\n",
    "                                                     'Scoring Runners',\n",
    "                                                     'RBIs',\n",
    "                                                     'Scorecard',\n",
    "                                                     'On-base?',\n",
    "                                                     'Plate Summary',\n",
    "                                                     'Plate Description',\n",
    "                                                     'Error',\n",
    "                                                     'Inning Outs'])\n",
    "\n",
    "df3"
   ]
  },
  {
   "cell_type": "code",
   "execution_count": null,
   "metadata": {
    "scrolled": false
   },
   "outputs": [],
   "source": [
    "for pitcher in df3['Pitcher'].unique():\n",
    "    s = df3[df3['Pitcher'] == pitcher]['Plate Summary'].value_counts()\n",
    "    if s[0] > 100:\n",
    "        fig, ax = plt.subplots()\n",
    "        ax.set_ylim(0, 250)\n",
    "        s.plot.bar()\n",
    "        plt.title(pitcher)\n",
    "        plt.show()\n"
   ]
  },
  {
   "cell_type": "code",
   "execution_count": null,
   "metadata": {},
   "outputs": [],
   "source": [
    "x = []\n",
    "for pitcher in df3['Pitcher'].unique():\n",
    "    #f = df3[df3['Pitcher'] == pitcher]['On-base?'].value_counts()[0]\n",
    "    s = df3[df3['Pitcher'] == pitcher]['On-base?'].value_counts()\n",
    "    if len(s) == 2:\n",
    "        f = s[0]\n",
    "        t = s[1]\n",
    "        x.append((str(pitcher), f, t))\n",
    "\n",
    "df4 = pd.DataFrame(data=x, columns=['Pitcher',\n",
    "                                    'Did not get on base',\n",
    "                                    'Got on base'])\n"
   ]
  },
  {
   "cell_type": "code",
   "execution_count": null,
   "metadata": {},
   "outputs": [],
   "source": [
    "df4.index = df4['Pitcher']\n",
    "df4.sort_values(by=['Got on base']).nlargest(10, 'Did not get on base').plot.bar()"
   ]
  },
  {
   "cell_type": "code",
   "execution_count": null,
   "metadata": {},
   "outputs": [],
   "source": [
    "x = []\n",
    "for batter in df3['Batter'].unique():\n",
    "    s = df3[df3['Batter'] == batter]['On-base?']\n",
    "    if True in s.value_counts():\n",
    "        t = s.value_counts()[True]\n",
    "    else:\n",
    "        t = 0\n",
    "\n",
    "    if False in s.value_counts():\n",
    "        f = s.value_counts()[False]\n",
    "    else:\n",
    "        f = 0        \n",
    "\n",
    "    if f != 0:\n",
    "        success = t / f\n",
    "    else:\n",
    "        success = None\n",
    "\n",
    "    if f:\n",
    "        x.append((str(batter), success, t, f))\n",
    "\n",
    "df5 = pd.DataFrame(data=x, columns=['Batter',\n",
    "                                    'Success',\n",
    "                                    'Got on base',\n",
    "                                    'Did not get on base'])\n"
   ]
  },
  {
   "cell_type": "code",
   "execution_count": null,
   "metadata": {
    "scrolled": false
   },
   "outputs": [],
   "source": [
    "fig, ax = plt.subplots(figsize=(15,15))\n",
    "plt.ylim(0, 70)\n",
    "plt.xlim(0, 70)\n",
    "\n",
    "lims = [0, 70]\n",
    "ax.plot(lims, lims, 'k-', alpha=0.75, zorder=0)\n",
    "ax.set_aspect('equal')\n",
    "ax.set_xlim(lims)\n",
    "ax.set_ylim(lims)\n",
    "ax.set(xlabel=\"Failed to get on base\", ylabel=\"Got on base\")\n",
    "\n",
    "t = df5['Got on base']\n",
    "f = df5['Did not get on base']\n",
    "b = plt.scatter(f, t, c='b')\n",
    "plt.show()\n",
    "\n",
    "df5.sort_values('Got on base', ascending=False)"
   ]
  },
  {
   "cell_type": "code",
   "execution_count": null,
   "metadata": {},
   "outputs": [],
   "source": []
  },
  {
   "cell_type": "code",
   "execution_count": null,
   "metadata": {},
   "outputs": [],
   "source": [
    "import fetch_game\n",
    "game_list_gen = fetch_game.get_game_generator_from_file_range('1-1-2016', '12-31-2017', '/Users/benjamincrom/repos/livebaseballscorecards-artifacts/baseball_files')"
   ]
  },
  {
   "cell_type": "code",
   "execution_count": null,
   "metadata": {},
   "outputs": [],
   "source": [
    "next(game_list_gen)"
   ]
  },
  {
   "cell_type": "code",
   "execution_count": null,
   "metadata": {},
   "outputs": [],
   "source": []
  },
  {
   "cell_type": "code",
   "execution_count": null,
   "metadata": {},
   "outputs": [],
   "source": []
  },
  {
   "cell_type": "code",
   "execution_count": null,
   "metadata": {},
   "outputs": [],
   "source": []
  }
 ],
 "metadata": {
  "kernelspec": {
   "display_name": "Python 3",
   "language": "python",
   "name": "python3"
  },
  "language_info": {
   "codemirror_mode": {
    "name": "ipython",
    "version": 3
   },
   "file_extension": ".py",
   "mimetype": "text/x-python",
   "name": "python",
   "nbconvert_exporter": "python",
   "pygments_lexer": "ipython3",
   "version": "3.4.4"
  }
 },
 "nbformat": 4,
 "nbformat_minor": 2
}
